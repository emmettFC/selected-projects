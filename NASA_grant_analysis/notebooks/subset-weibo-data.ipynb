{
 "cells": [
  {
   "cell_type": "code",
   "execution_count": null,
   "metadata": {
    "collapsed": true
   },
   "outputs": [],
   "source": [
    "'''\n",
    "    Data Driven Yale: Analytical regionalization & Social media data\n",
    "        I: Subset social media data\n",
    "        II: Subset by polygons\n",
    "        III: Subset by annotaions\n",
    "'''\n",
    "\n",
    "# -- \n",
    "# dependancies\n",
    "\n",
    "import csv\n",
    "import pandas as pd\n",
    "import numpy as np \n",
    "import pickle\n",
    "from pprint import pprint\n",
    "\n",
    "import json \n",
    "import geojson\n",
    "import matplotlib.pyplot as plt \n",
    "from descartes import PolygonPatch\n",
    "from shapely.geometry import shape, Point\n",
    "\n",
    "from matplotlib.path import Path\n",
    "import matplotlib.patches as patches\n",
    "\n",
    "import sqlite3"
   ]
  },
  {
   "cell_type": "code",
   "execution_count": null,
   "metadata": {
    "collapsed": true
   },
   "outputs": [],
   "source": [
    "# -- \n",
    "# io\n",
    "\n",
    "data = [] \n",
    "excpt = [] \n",
    "with open('../data/angel_de.txt') as f:\n",
    "    for line in f:\n",
    "        try: \n",
    "            out = line.split(',')\n",
    "            row = out[0:4]\n",
    "            data.append(row)\n",
    "        except:\n",
    "            excpt.append(line)\n",
    "\n",
    "with open(\"../data/beijing.geojson\") as json_file:\n",
    "    json_data = geojson.load(json_file)"
   ]
  },
  {
   "cell_type": "code",
   "execution_count": null,
   "metadata": {
    "collapsed": true
   },
   "outputs": [],
   "source": [
    "# -- \n",
    "# user defined functions \n",
    "\n",
    "def subsetPoints(poly, df): \n",
    "    bounds = poly.bounds\n",
    "    df.loc[(df['lat'] >= bounds[1]) & (df['lat'] <= bounds[3]) \\\n",
    "        & (df['lon'] >= bounds[0]) & (df['lon'] <= bounds[2])]\n",
    "    return df\n",
    "\n",
    "def getInPolyPoints(poly, df): \n",
    "    bounds = poly.bounds\n",
    "    d = df.loc[(df['lat'] >= bounds[1]) & (df['lat'] <= bounds[3]) \\\n",
    "        & (df['lon'] >= bounds[0]) & (df['lon'] <= bounds[2])]\n",
    "    d['labelInPoly'] = d.apply(lambda row: labelInPoly(row), axis=1)\n",
    "    return d.loc[d['labelInPoly'] == 'in']\n",
    "\n",
    "def labelInPoly(row): \n",
    "    point = Point(row['lon'], row['lat'])\n",
    "    out = 'out'\n",
    "    if poly.contains(point):\n",
    "            out = 'in'\n",
    "    return out"
   ]
  },
  {
   "cell_type": "code",
   "execution_count": null,
   "metadata": {
    "collapsed": true
   },
   "outputs": [],
   "source": [
    "# -- \n",
    "# reduce columns to eliminate text data\n",
    "\n",
    "wbDat = pd.DataFrame(data)\n",
    "wbDat.columns = ['unID', 'lon', 'lat', 'timestamp']\n",
    "wbDat.reset_index(inplace=True)"
   ]
  },
  {
   "cell_type": "code",
   "execution_count": null,
   "metadata": {
    "collapsed": true
   },
   "outputs": [],
   "source": [
    "# -- \n",
    "# convert string lat lons to float\n",
    "\n",
    "wbDat['lon'] = wbDat.apply(lambda row: np.float(row['lon']), axis=1)\n",
    "wbDat['lat'] = wbDat.apply(lambda row: np.float(row['lat']), axis=1)"
   ]
  },
  {
   "cell_type": "code",
   "execution_count": null,
   "metadata": {
    "collapsed": true
   },
   "outputs": [],
   "source": [
    "# -- \n",
    "# reduce weibo data to beijing geojson file\n",
    "\n",
    "inpolys = [] \n",
    "i = 0 \n",
    "for f in json_data['features']:\n",
    "    print(i)\n",
    "    i += 1\n",
    "    poly = shape(f['geometry']) \n",
    "    polydf = getInPolyPoints(poly, wbDat)\n",
    "    inpolys.append(polydf)\n",
    "\n",
    "weibo_subset = pd.concat(inpolys)"
   ]
  },
  {
   "cell_type": "code",
   "execution_count": null,
   "metadata": {
    "collapsed": true
   },
   "outputs": [],
   "source": [
    "# -- \n",
    "# identify all points inside the area with baidu labels (aproximatley 6th ring road)\n",
    "\n",
    "'''path below is hardcoded; need to stand up udit db at local directory'''\n",
    "'''to do this; see file in ../docs/init-google-db'''\n",
    "con = sqlite3.connect('/Users/culhane/Downloads/google.db')\n",
    "cursor = con.cursor()\n",
    "\n",
    "cursor.execute(\"SELECT * FROM google_result;\")\n",
    "dat = cursor.fetchall() \n",
    "dfg = pd.DataFrame(dat)\n",
    "dfpoints = dfg[[1, 2]]\n",
    "dfpoints.columns = ['lon','lat']\n",
    "\n",
    "maxLon, minLon = np.max(dfpoints['lon']), np.min(dfpoints['lon'])\n",
    "maxLat, minLat = np.max(dfpoints['lat']), np.min(dfpoints['lat'])\n",
    "\n",
    "wbSub = weibo_subset.loc[(weibo_subset['lon'] >= minLon) & (weibo_subset['lon'] <= maxLon)]\n",
    "wbSub = wbSub.loc[(wbSub['lat'] >= minLat) & (wbSub['lat'] <= maxLat)]"
   ]
  },
  {
   "cell_type": "code",
   "execution_count": null,
   "metadata": {
    "collapsed": true
   },
   "outputs": [],
   "source": [
    "'''plot beijing geojson file'''\n",
    "fig = plt.figure() \n",
    "feats = json_data['features']\n",
    "for i in range(0, len(feats)): \n",
    "    try: \n",
    "        test = feats[i]\n",
    "        poly = test['geometry']\n",
    "        coords = poly['coordinates']\n",
    "        x = [i for i,j in coords[0]]\n",
    "        y = [j for i,j in coords[0]]\n",
    "        ax = fig.gca() \n",
    "        # ax.plot(x,y)\n",
    "        ax.plot(x, y, color='black')\n",
    "        ax.axis('scaled')\n",
    "    except: \n",
    "        print('failed to add polygon with index ' + str(i))\n",
    "\n",
    "'''Plot all weibo points'''\n",
    "xa, ya = wbDat[['lon']], wbDat[['lat']]\n",
    "ax.scatter(xa, ya, color='red', s=0.02)\n",
    "\n",
    "'''Plot rectangle of annotated region'''\n",
    "verts = [(minLon, maxLat), (maxLon, maxLat), (maxLon, minLat), (minLon, minLat), (minLon, maxLat),]\n",
    "codes = [Path.MOVETO,\n",
    "         Path.LINETO,\n",
    "         Path.LINETO,\n",
    "         Path.LINETO,\n",
    "         Path.CLOSEPOLY,\n",
    "         ]\n",
    "\n",
    "path = Path(verts, codes)\n",
    "patch = patches.PathPatch(path, facecolor='none', lw=2)\n",
    "ax.add_patch(patch)\n",
    "\n",
    "'''Plot all annotations'''\n",
    "xd, yd = dfpoints[['lon']], dfpoints[['lat']]\n",
    "ax.scatter(xd, yd, color='blue', s=0.009)\n",
    "\n",
    "'''Save and show plot of annotations, weibo and boundary'''\n",
    "plt.savefig('../assets/weibo-baidu-scatter-beijing.png')\n",
    "plt.show()"
   ]
  },
  {
   "cell_type": "code",
   "execution_count": null,
   "metadata": {
    "collapsed": true
   },
   "outputs": [],
   "source": [
    "# -- \n",
    "# save out reduced data for segmentation and clustering\n",
    "\n",
    "'''this can be tabbed back in to write out checkpoint for reduced data'''\n",
    "'''the data has already been written out and is contained in this repo'''\n",
    "'''at the location below'''\n",
    "\n",
    "# wbSub.to_csv('../data/inLabelRegionPoints.csv')"
   ]
  }
 ],
 "metadata": {
  "kernelspec": {
   "display_name": "Python 2",
   "language": "python",
   "name": "python2"
  },
  "language_info": {
   "codemirror_mode": {
    "name": "ipython",
    "version": 2
   },
   "file_extension": ".py",
   "mimetype": "text/x-python",
   "name": "python",
   "nbconvert_exporter": "python",
   "pygments_lexer": "ipython2",
   "version": "2.7.14"
  }
 },
 "nbformat": 4,
 "nbformat_minor": 2
}
