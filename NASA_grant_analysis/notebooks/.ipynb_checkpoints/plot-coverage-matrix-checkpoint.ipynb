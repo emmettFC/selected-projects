{
 "cells": [
  {
   "cell_type": "code",
   "execution_count": null,
   "metadata": {},
   "outputs": [],
   "source": [
    "'''\n",
    "    Plot sparse vectors: \n",
    "        I: Evaluating distribution of vector components\n",
    "        II: Making a matrix to show coverage\n",
    "'''\n",
    "\n",
    "# -- \n",
    "# dependancies\n",
    "\n",
    "from sklearn.decomposition import PCA\n",
    "import numpy as np\n",
    "from sklearn.cluster import KMeans\n",
    "\n",
    "import matplotlib\n",
    "import matplotlib.pyplot as plt\n",
    "import numpy as np\n",
    "import pandas as pd\n",
    "import seaborn as sns\n",
    "pd.set_option('display.expand_frame_repr', False)"
   ]
  },
  {
   "cell_type": "code",
   "execution_count": null,
   "metadata": {},
   "outputs": [],
   "source": [
    "# -- \n",
    "# user defined functions\n",
    "\n",
    "def fixLstring(row): \n",
    "    v = row['combined']\n",
    "    s = v[1:-1].split(', ')\n",
    "    s = [np.float(i) for i in s]\n",
    "    return s"
   ]
  },
  {
   "cell_type": "code",
   "execution_count": null,
   "metadata": {},
   "outputs": [],
   "source": [
    "# -- \n",
    "# io\n",
    "\n",
    "dhv = pd.read_csv('../data/day-hour-vectors.csv')\n",
    "dhv['combined_list'] = dhv.apply(lambda row: fixLstring(row), axis=1)\n",
    "len(dhv.iloc[0].combined_list) # 168 dim, correct\n",
    "# [ 0.11674758  0.0951933 ]\n",
    "\n",
    "whv = pd.read_csv('../data/weekday-weekend-hour-vectors.csv')\n",
    "whv['combined_list'] = whv.apply(lambda row: fixLstring(row), axis=1)\n",
    "len(whv.iloc[0].combined_list) # 48 dim, correct\n",
    "# [ 0.22319044  0.16556947]"
   ]
  },
  {
   "cell_type": "code",
   "execution_count": null,
   "metadata": {},
   "outputs": [],
   "source": [
    "# -- \n",
    "# plot binary matrix for day hour \n",
    "\n",
    "dhv_vectors = dhv.combined_list.values.tolist()\n",
    "dhv_binary = []\n",
    "for i in dhv_vectors: \n",
    "    out = []\n",
    "    for r in i: \n",
    "        if r == 0: \n",
    "            out.append(0)\n",
    "        else: \n",
    "            out.append(1)\n",
    "    dhv_binary.append(out)\n",
    "\n",
    "\n",
    "dhv_binary_array = np.array(dhv_binary)\n",
    "G = np.zeros((86,48,3))\n",
    "G[dhv_binary_array>0] = [1,1,1]\n",
    "G[dhv_binary_array<1] = [0,0,0]\n",
    "\n",
    "plt.imshow(G,interpolation='nearest')\n",
    "plt.show()"
   ]
  },
  {
   "cell_type": "code",
   "execution_count": null,
   "metadata": {},
   "outputs": [],
   "source": [
    "# -- \n",
    "# plot sums for day hour\n",
    "\n",
    "'''Pure python and matplotlib'''\n",
    "df_binary = pd.DataFrame(dhv_binary_array)\n",
    "y = [] \n",
    "for i in range(168): \n",
    "    n = df_binary[i].sum()\n",
    "    y.append(n)\n",
    "\n",
    "plt.bar(range(168), y)\n",
    "plt.show()\n",
    "\n",
    "'''seaborn'''\n",
    "sns.set()\n",
    "sns.heatmap(df_binary)\n",
    "plt.show()"
   ]
  },
  {
   "cell_type": "code",
   "execution_count": null,
   "metadata": {},
   "outputs": [],
   "source": [
    "# -- \n",
    "# plot binary matrix for week hour\n",
    "\n",
    "whv_vectors = whv.combined_list.values.tolist()\n",
    "whv_binary = []\n",
    "for i in whv_vectors: \n",
    "    out = []\n",
    "    for r in i: \n",
    "        if r == 0: \n",
    "            out.append(0)\n",
    "        else: \n",
    "            out.append(1)\n",
    "    whv_binary.append(out)\n",
    "\n",
    "whv_binary_array = np.array(whv_binary)\n",
    "G = np.zeros((86,48,3))\n",
    "G[whv_binary_array>0] = [1,1,1]\n",
    "G[whv_binary_array<1] = [0,0,0]\n",
    "\n",
    "plt.imshow(G,interpolation='nearest')\n",
    "plt.show()"
   ]
  },
  {
   "cell_type": "code",
   "execution_count": null,
   "metadata": {},
   "outputs": [],
   "source": [
    "# -- \n",
    "# plot sums for week hour\n",
    "\n",
    "'''Pure python and matplotlib'''\n",
    "df_binary = pd.DataFrame(whv_binary_array)\n",
    "y = [] \n",
    "for i in range(168): \n",
    "    n = df_binary[i].sum()\n",
    "    y.append(n)\n",
    "\n",
    "plt.bar(x, y)\n",
    "plt.show() \n",
    "\n",
    "'''seaborn'''\n",
    "sns.set()\n",
    "sns.heatmap(df_binary)\n",
    "plt.show()"
   ]
  }
 ],
 "metadata": {
  "kernelspec": {
   "display_name": "Python 2",
   "language": "python",
   "name": "python2"
  },
  "language_info": {
   "codemirror_mode": {
    "name": "ipython",
    "version": 2
   },
   "file_extension": ".py",
   "mimetype": "text/x-python",
   "name": "python",
   "nbconvert_exporter": "python",
   "pygments_lexer": "ipython2",
   "version": "2.7.15"
  }
 },
 "nbformat": 4,
 "nbformat_minor": 2
}
